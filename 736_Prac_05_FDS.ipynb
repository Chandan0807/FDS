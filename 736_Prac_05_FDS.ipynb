{
 "cells": [
  {
   "cell_type": "code",
   "execution_count": 1,
   "id": "c69a27f9",
   "metadata": {},
   "outputs": [],
   "source": [
    "def bayes_theorem(p_a,p_b_given_a,p_b_given_not_a):\n",
    "    not_a = 1 - p_a\n",
    "    p_b = p_b_given_a * p_a + p_b_given_not_a * not_a\n",
    "    p_a_given_b = (p_b_given_a * p_a) / p_b\n",
    "    return p_a_given_b"
   ]
  },
  {
   "cell_type": "code",
   "execution_count": 2,
   "id": "4409ba12",
   "metadata": {},
   "outputs": [],
   "source": [
    "p_a = 0.0002\n",
    "p_b_given_a = 0.85\n",
    "p_b_given_not_a = 0.05"
   ]
  },
  {
   "cell_type": "code",
   "execution_count": 3,
   "id": "030d00ff",
   "metadata": {},
   "outputs": [
    {
     "name": "stdout",
     "output_type": "stream",
     "text": [
      "P(A|B) = 0.339%\n"
     ]
    }
   ],
   "source": [
    "result = bayes_theorem(p_a,p_b_given_a,p_b_given_not_a)\n",
    "print('P(A|B) = %.3f%%'% (result*100))"
   ]
  },
  {
   "cell_type": "code",
   "execution_count": null,
   "id": "7aa2ec4c",
   "metadata": {},
   "outputs": [],
   "source": []
  }
 ],
 "metadata": {
  "kernelspec": {
   "display_name": "Python 3 (ipykernel)",
   "language": "python",
   "name": "python3"
  },
  "language_info": {
   "codemirror_mode": {
    "name": "ipython",
    "version": 3
   },
   "file_extension": ".py",
   "mimetype": "text/x-python",
   "name": "python",
   "nbconvert_exporter": "python",
   "pygments_lexer": "ipython3",
   "version": "3.9.12"
  }
 },
 "nbformat": 4,
 "nbformat_minor": 5
}
