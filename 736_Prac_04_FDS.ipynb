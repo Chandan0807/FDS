{
 "cells": [
  {
   "cell_type": "code",
   "execution_count": 1,
   "id": "c1610622",
   "metadata": {},
   "outputs": [
    {
     "name": "stdout",
     "output_type": "stream",
     "text": [
      "Probability of getting 3 when a die is rolled is: 0.16666666666666666\n"
     ]
    }
   ],
   "source": [
    "# Probability of getting 3 when a die is rolled\n",
    "ns = 6 # sample space, n(s)={1,2,3,4,5,6}\n",
    "na = 1 # prefered outcomes, n(a)={3}\n",
    "pa = na/ns\n",
    "print(\"Probability of getting 3 when a die is rolled is:\", pa)"
   ]
  },
  {
   "cell_type": "code",
   "execution_count": 2,
   "id": "972ceab2",
   "metadata": {},
   "outputs": [
    {
     "name": "stdout",
     "output_type": "stream",
     "text": [
      "Probability of getting atleast 1 head when a coin is tossed thrice is: 0.875\n"
     ]
    }
   ],
   "source": [
    "# Probability of getting atleast 1 head when a coin is tossed thrice.\n",
    "ns = 8 # n(s)={HHH, HHT, HTH, HTT, TTT, THH, TTH, THT}\n",
    "na = 7 # n(a)={HHT, HTH, HTT, TTT, THH, TTH, THT}\n",
    "pa = na/ns\n",
    "print(\"Probability of getting atleast 1 head when a coin is tossed thrice is:\", pa)"
   ]
  },
  {
   "cell_type": "code",
   "execution_count": 3,
   "id": "1bc6b3e7",
   "metadata": {},
   "outputs": [
    {
     "name": "stdout",
     "output_type": "stream",
     "text": [
      "Probability of not getting blue jelly beans is: 0.7\n"
     ]
    }
   ],
   "source": [
    "# A glass jar contains 5 red, 3 blue and 2 green jelly beans.\n",
    "# If a jelly bean is choosen at random from the jar,\n",
    "# What is the probability that it is not blue?\n",
    "ns = 10 # n(s)={R,R,R,R,R,B,B,B,G,G}\n",
    "na = 7\n",
    "pa = na/ns \n",
    "print(\"Probability of not getting blue jelly beans is:\", pa)"
   ]
  },
  {
   "cell_type": "code",
   "execution_count": 4,
   "id": "c72ce7e3",
   "metadata": {},
   "outputs": [
    {
     "name": "stdout",
     "output_type": "stream",
     "text": [
      "Probability that they both will be alive in 20 years is: 0.35\n"
     ]
    }
   ],
   "source": [
    "# If the probability that person A will be alive in 20 years is 0.7 and\n",
    "# the probability that person B will be alive in 20 years is 0.5,\n",
    "# What is the probability that they will be alive in 20 years?\n",
    "\n",
    "# These are independent events, so\n",
    "p = 0.7*0.5\n",
    "print(\"Probability that they both will be alive in 20 years is:\", p)"
   ]
  },
  {
   "cell_type": "code",
   "execution_count": 5,
   "id": "37b82758",
   "metadata": {},
   "outputs": [],
   "source": [
    "def event_probability(n,s):\n",
    "    return n/s"
   ]
  },
  {
   "cell_type": "code",
   "execution_count": 6,
   "id": "d2cc99ed",
   "metadata": {},
   "outputs": [
    {
     "name": "stdout",
     "output_type": "stream",
     "text": [
      "Probability of getting a 4 or 5 on the first toss and a  1,2 or 3 on the second toss is: 0.16666666666666666\n"
     ]
    }
   ],
   "source": [
    "# A fair die is tossed twice. Find the probability of getting a 4 or 5 on the first toss\n",
    "# and a  1,2 or 3 on the second toss.\n",
    "pa = event_probability(2,6) # probability of getting a 4 or 5 on the first toss\n",
    "pb = event_probability(3,6) # probability of getting a 1,2 or 3 on the second toss.\n",
    "p = pa*pb\n",
    "print(\"Probability of getting a 4 or 5 on the first toss and a  1,2 or 3 on the second toss is:\", p)"
   ]
  },
  {
   "cell_type": "code",
   "execution_count": 7,
   "id": "6465ee13",
   "metadata": {},
   "outputs": [
    {
     "name": "stdout",
     "output_type": "stream",
     "text": [
      "Probability of obtaining white, black and green in that order is: 0.041666666666666664\n"
     ]
    }
   ],
   "source": [
    "# A bag contains 5 white marbles, 3 black marbles and 2 green marbles.\n",
    "# In each draw, a marble is draw from the bag\n",
    "# and not replaced. In three draws, find the probability of\n",
    "# obtaining white, black and green in that order.\n",
    "pa = event_probability(5,10)\n",
    "pb = event_probability(3,9)\n",
    "pc = event_probability(2,8)\n",
    "p = pa*pb*pc\n",
    "print(\"Probability of obtaining white, black and green in that order is:\", p)"
   ]
  },
  {
   "cell_type": "code",
   "execution_count": 8,
   "id": "6e7ff651",
   "metadata": {},
   "outputs": [
    {
     "name": "stdout",
     "output_type": "stream",
     "text": [
      "Probability of drawing a heart or a club is: 0.5\n"
     ]
    }
   ],
   "source": [
    "# Sample space\n",
    "cards = 52\n",
    "\n",
    "# Calculate the probability of drawing a heart or a club.\n",
    "hearts = 13\n",
    "clubs = 13\n",
    "heart_or_club = event_probability(hearts, cards) + event_probability(clubs, cards)\n",
    "print(\"Probability of drawing a heart or a club is:\",heart_or_club)"
   ]
  },
  {
   "cell_type": "code",
   "execution_count": 9,
   "id": "aa6a626b",
   "metadata": {},
   "outputs": [
    {
     "name": "stdout",
     "output_type": "stream",
     "text": [
      "Probability of drawing an ace, queen or king is: 0.23076923076923078\n"
     ]
    }
   ],
   "source": [
    "# Calculate the probability of drawing an ace, queen or king\n",
    "\n",
    "cards = 52 # Sample space\n",
    "aces = 4\n",
    "queens= 4 \n",
    "kings= 4 \n",
    "ace_queen_or_king = event_probability(aces, cards) + event_probability(queens, cards) + event_probability(kings, cards)\n",
    "print(\"Probability of drawing an ace, queen or king is:\",ace_queen_or_king)"
   ]
  },
  {
   "cell_type": "code",
   "execution_count": 10,
   "id": "1258a74d",
   "metadata": {},
   "outputs": [
    {
     "name": "stdout",
     "output_type": "stream",
     "text": [
      "Probability of drawing a heart or an ace is: 0.31\n"
     ]
    }
   ],
   "source": [
    "# Calculate the probability of drawing a heart or an ace.\n",
    "\n",
    "cards = 52 # Sample space\n",
    "hearts = 13\n",
    "aces = 4 \n",
    "ace_of_hearts = 1\n",
    "hearts_or_aces = event_probability(hearts, cards) + event_probability(aces, cards) - event_probability(ace_of_hearts, cards)\n",
    "print(\"Probability of drawing a heart or an ace is:\",round(hearts_or_aces,2))"
   ]
  },
  {
   "cell_type": "code",
   "execution_count": 11,
   "id": "d6477a85",
   "metadata": {},
   "outputs": [
    {
     "name": "stdout",
     "output_type": "stream",
     "text": [
      "Probability of drawing red cards or face cards is: 0.62\n"
     ]
    }
   ],
   "source": [
    "# Calculate the probability of drawing red cards or face cards\n",
    "\n",
    "cards = 52\n",
    "red = 26\n",
    "face_cards = 12\n",
    "red_face_cards = 6\n",
    "red_card_or_face_card = event_probability(red, cards) + event_probability(face_cards, cards) - event_probability(red_face_cards, cards)\n",
    "print(\"Probability of drawing red cards or face cards is:\", round(red_card_or_face_card, 2))"
   ]
  },
  {
   "cell_type": "code",
   "execution_count": 12,
   "id": "9962060b",
   "metadata": {},
   "outputs": [
    {
     "name": "stdout",
     "output_type": "stream",
     "text": [
      "Probability of not getting 5 when a fair die is rolled is: 0.83\n"
     ]
    }
   ],
   "source": [
    "# Probability of not getting 5 when a fair die is rolled\n",
    "\n",
    "ns = 6 # n(s)= {1,2,3,4,5,6}\n",
    "na = 1 # n(a) = {5}\n",
    "pa = na/ns #p(a)\n",
    "print(\"Probability of not getting 5 when a fair die is rolled is:\", round(1-pa,2))"
   ]
  },
  {
   "cell_type": "code",
   "execution_count": 13,
   "id": "97eb9253",
   "metadata": {},
   "outputs": [
    {
     "name": "stdout",
     "output_type": "stream",
     "text": [
      "Probability of winning is: 0.0784\n"
     ]
    }
   ],
   "source": [
    "# Suppose you draw 2 cards from deck.\n",
    "# You win if you get ace given that you draw a jack in first draw.\n",
    "\n",
    "cards = 52 # Sample spcae\n",
    "jacks = 4  \n",
    "aces = 4\n",
    "pj = event_probability(jacks, 52) \n",
    "pa = event_probability(aces, 51)\n",
    "pa_given_jack = (pj*pa)/pj\n",
    "print(\"Probability of winning is:\",round(pa_given_jack,4))"
   ]
  },
  {
   "cell_type": "markdown",
   "id": "0fa60ca5",
   "metadata": {},
   "source": [
    "## Conditional Probability"
   ]
  },
  {
   "cell_type": "code",
   "execution_count": 14,
   "id": "f6b6f541",
   "metadata": {},
   "outputs": [
    {
     "data": {
      "text/html": [
       "<div>\n",
       "<style scoped>\n",
       "    .dataframe tbody tr th:only-of-type {\n",
       "        vertical-align: middle;\n",
       "    }\n",
       "\n",
       "    .dataframe tbody tr th {\n",
       "        vertical-align: top;\n",
       "    }\n",
       "\n",
       "    .dataframe thead th {\n",
       "        text-align: right;\n",
       "    }\n",
       "</style>\n",
       "<table border=\"1\" class=\"dataframe\">\n",
       "  <thead>\n",
       "    <tr style=\"text-align: right;\">\n",
       "      <th></th>\n",
       "      <th>school</th>\n",
       "      <th>sex</th>\n",
       "      <th>age</th>\n",
       "      <th>address</th>\n",
       "      <th>famsize</th>\n",
       "      <th>Pstatus</th>\n",
       "      <th>Medu</th>\n",
       "      <th>Fedu</th>\n",
       "      <th>Mjob</th>\n",
       "      <th>Fjob</th>\n",
       "      <th>...</th>\n",
       "      <th>famrel</th>\n",
       "      <th>freetime</th>\n",
       "      <th>goout</th>\n",
       "      <th>Dalc</th>\n",
       "      <th>Walc</th>\n",
       "      <th>health</th>\n",
       "      <th>absences</th>\n",
       "      <th>G1</th>\n",
       "      <th>G2</th>\n",
       "      <th>G3</th>\n",
       "    </tr>\n",
       "  </thead>\n",
       "  <tbody>\n",
       "    <tr>\n",
       "      <th>0</th>\n",
       "      <td>GP</td>\n",
       "      <td>F</td>\n",
       "      <td>18</td>\n",
       "      <td>U</td>\n",
       "      <td>GT3</td>\n",
       "      <td>A</td>\n",
       "      <td>4</td>\n",
       "      <td>4</td>\n",
       "      <td>at_home</td>\n",
       "      <td>teacher</td>\n",
       "      <td>...</td>\n",
       "      <td>4</td>\n",
       "      <td>3</td>\n",
       "      <td>4</td>\n",
       "      <td>1</td>\n",
       "      <td>1</td>\n",
       "      <td>3</td>\n",
       "      <td>6</td>\n",
       "      <td>5</td>\n",
       "      <td>6</td>\n",
       "      <td>6</td>\n",
       "    </tr>\n",
       "    <tr>\n",
       "      <th>1</th>\n",
       "      <td>GP</td>\n",
       "      <td>F</td>\n",
       "      <td>17</td>\n",
       "      <td>U</td>\n",
       "      <td>GT3</td>\n",
       "      <td>T</td>\n",
       "      <td>1</td>\n",
       "      <td>1</td>\n",
       "      <td>at_home</td>\n",
       "      <td>other</td>\n",
       "      <td>...</td>\n",
       "      <td>5</td>\n",
       "      <td>3</td>\n",
       "      <td>3</td>\n",
       "      <td>1</td>\n",
       "      <td>1</td>\n",
       "      <td>3</td>\n",
       "      <td>4</td>\n",
       "      <td>5</td>\n",
       "      <td>5</td>\n",
       "      <td>6</td>\n",
       "    </tr>\n",
       "    <tr>\n",
       "      <th>2</th>\n",
       "      <td>GP</td>\n",
       "      <td>F</td>\n",
       "      <td>15</td>\n",
       "      <td>U</td>\n",
       "      <td>LE3</td>\n",
       "      <td>T</td>\n",
       "      <td>1</td>\n",
       "      <td>1</td>\n",
       "      <td>at_home</td>\n",
       "      <td>other</td>\n",
       "      <td>...</td>\n",
       "      <td>4</td>\n",
       "      <td>3</td>\n",
       "      <td>2</td>\n",
       "      <td>2</td>\n",
       "      <td>3</td>\n",
       "      <td>3</td>\n",
       "      <td>10</td>\n",
       "      <td>7</td>\n",
       "      <td>8</td>\n",
       "      <td>10</td>\n",
       "    </tr>\n",
       "  </tbody>\n",
       "</table>\n",
       "<p>3 rows × 33 columns</p>\n",
       "</div>"
      ],
      "text/plain": [
       "  school sex  age address famsize Pstatus  Medu  Fedu     Mjob     Fjob  ...  \\\n",
       "0     GP   F   18       U     GT3       A     4     4  at_home  teacher  ...   \n",
       "1     GP   F   17       U     GT3       T     1     1  at_home    other  ...   \n",
       "2     GP   F   15       U     LE3       T     1     1  at_home    other  ...   \n",
       "\n",
       "  famrel freetime  goout  Dalc  Walc health absences G1 G2  G3  \n",
       "0      4        3      4     1     1      3        6  5  6   6  \n",
       "1      5        3      3     1     1      3        4  5  5   6  \n",
       "2      4        3      2     2     3      3       10  7  8  10  \n",
       "\n",
       "[3 rows x 33 columns]"
      ]
     },
     "execution_count": 14,
     "metadata": {},
     "output_type": "execute_result"
    }
   ],
   "source": [
    "import pandas as pd \n",
    "import numpy as np\n",
    "df = pd.read_csv(\"Datasets/student-mat.csv\")\n",
    "df.head(3)"
   ]
  },
  {
   "cell_type": "code",
   "execution_count": 15,
   "id": "fa24019a",
   "metadata": {},
   "outputs": [
    {
     "data": {
      "text/plain": [
       "395"
      ]
     },
     "execution_count": 15,
     "metadata": {},
     "output_type": "execute_result"
    }
   ],
   "source": [
    "len(df)"
   ]
  },
  {
   "cell_type": "code",
   "execution_count": 16,
   "id": "0c284624",
   "metadata": {},
   "outputs": [],
   "source": [
    "df[\"grade_A\"] = np.where(df[\"G3\"]*5 >= 80, 1, 0)"
   ]
  },
  {
   "cell_type": "code",
   "execution_count": 17,
   "id": "8d4888c1",
   "metadata": {},
   "outputs": [],
   "source": [
    "df[\"high_absences\"] = np.where(df[\"absences\"] >= 10, 1, 0)"
   ]
  },
  {
   "cell_type": "code",
   "execution_count": 18,
   "id": "16982680",
   "metadata": {},
   "outputs": [],
   "source": [
    "df[\"count\"] = 1"
   ]
  },
  {
   "cell_type": "code",
   "execution_count": 19,
   "id": "93e60e95",
   "metadata": {},
   "outputs": [
    {
     "data": {
      "text/html": [
       "<div>\n",
       "<style scoped>\n",
       "    .dataframe tbody tr th:only-of-type {\n",
       "        vertical-align: middle;\n",
       "    }\n",
       "\n",
       "    .dataframe tbody tr th {\n",
       "        vertical-align: top;\n",
       "    }\n",
       "\n",
       "    .dataframe thead th {\n",
       "        text-align: right;\n",
       "    }\n",
       "</style>\n",
       "<table border=\"1\" class=\"dataframe\">\n",
       "  <thead>\n",
       "    <tr style=\"text-align: right;\">\n",
       "      <th></th>\n",
       "      <th>grade_A</th>\n",
       "      <th>high_absences</th>\n",
       "      <th>count</th>\n",
       "    </tr>\n",
       "  </thead>\n",
       "  <tbody>\n",
       "    <tr>\n",
       "      <th>0</th>\n",
       "      <td>0</td>\n",
       "      <td>0</td>\n",
       "      <td>1</td>\n",
       "    </tr>\n",
       "    <tr>\n",
       "      <th>1</th>\n",
       "      <td>0</td>\n",
       "      <td>0</td>\n",
       "      <td>1</td>\n",
       "    </tr>\n",
       "    <tr>\n",
       "      <th>2</th>\n",
       "      <td>0</td>\n",
       "      <td>1</td>\n",
       "      <td>1</td>\n",
       "    </tr>\n",
       "    <tr>\n",
       "      <th>3</th>\n",
       "      <td>0</td>\n",
       "      <td>0</td>\n",
       "      <td>1</td>\n",
       "    </tr>\n",
       "    <tr>\n",
       "      <th>4</th>\n",
       "      <td>0</td>\n",
       "      <td>0</td>\n",
       "      <td>1</td>\n",
       "    </tr>\n",
       "  </tbody>\n",
       "</table>\n",
       "</div>"
      ],
      "text/plain": [
       "   grade_A  high_absences  count\n",
       "0        0              0      1\n",
       "1        0              0      1\n",
       "2        0              1      1\n",
       "3        0              0      1\n",
       "4        0              0      1"
      ]
     },
     "execution_count": 19,
     "metadata": {},
     "output_type": "execute_result"
    }
   ],
   "source": [
    "df = df[[\"grade_A\",\"high_absences\",\"count\"]]\n",
    "df.head()"
   ]
  },
  {
   "cell_type": "code",
   "execution_count": 20,
   "id": "d1838891",
   "metadata": {},
   "outputs": [],
   "source": [
    "final = pd.pivot_table(\n",
    "    df,\n",
    "    values=\"count\",\n",
    "    index=[\"grade_A\"],\n",
    "    columns=[\"high_absences\"],\n",
    "    aggfunc=np.size,\n",
    "    fill_value=0\n",
    ")"
   ]
  },
  {
   "cell_type": "code",
   "execution_count": 21,
   "id": "4aee3fda",
   "metadata": {},
   "outputs": [
    {
     "name": "stdout",
     "output_type": "stream",
     "text": [
      "high_absences    0   1\n",
      "grade_A               \n",
      "0              277  78\n",
      "1               35   5\n"
     ]
    }
   ],
   "source": [
    "print(final)"
   ]
  },
  {
   "cell_type": "code",
   "execution_count": 22,
   "id": "8c2793d1",
   "metadata": {},
   "outputs": [
    {
     "data": {
      "text/plain": [
       "0.10126582278481013"
      ]
     },
     "execution_count": 22,
     "metadata": {},
     "output_type": "execute_result"
    }
   ],
   "source": [
    "pa = (final.iloc[1,0]+final.iloc[1,1])/(final.iloc[0,0]+final.iloc[0,1]+final.iloc[1,0]+final.iloc[1,1])\n",
    "pa"
   ]
  },
  {
   "cell_type": "code",
   "execution_count": 23,
   "id": "aec47fc3",
   "metadata": {},
   "outputs": [
    {
     "data": {
      "text/plain": [
       "0.21012658227848102"
      ]
     },
     "execution_count": 23,
     "metadata": {},
     "output_type": "execute_result"
    }
   ],
   "source": [
    "pb = (final.iloc[0,1]+final.iloc[1,1])/(final.iloc[0,0]+final.iloc[0,1]+final.iloc[1,0]+final.iloc[1,1])\n",
    "pb"
   ]
  },
  {
   "cell_type": "code",
   "execution_count": 24,
   "id": "7f515d2d",
   "metadata": {},
   "outputs": [
    {
     "data": {
      "text/plain": [
       "0.012658227848101266"
      ]
     },
     "execution_count": 24,
     "metadata": {},
     "output_type": "execute_result"
    }
   ],
   "source": [
    "pa_or_pb = (final.iloc[1,1])/(final.iloc[0,0]+final.iloc[0,1]+final.iloc[1,0]+final.iloc[1,1])\n",
    "pa_or_pb"
   ]
  },
  {
   "cell_type": "code",
   "execution_count": 25,
   "id": "aad4b2d6",
   "metadata": {},
   "outputs": [
    {
     "data": {
      "text/plain": [
       "0.060240963855421686"
      ]
     },
     "execution_count": 25,
     "metadata": {},
     "output_type": "execute_result"
    }
   ],
   "source": [
    "A_given_B = pa_or_pb/pb\n",
    "A_given_B"
   ]
  },
  {
   "cell_type": "code",
   "execution_count": 26,
   "id": "b5884076",
   "metadata": {},
   "outputs": [
    {
     "name": "stdout",
     "output_type": "stream",
     "text": [
      "The probability of student getting at least an A(80% +) final grade, given missing 10 or more classes is: 0.06\n"
     ]
    }
   ],
   "source": [
    "print(\"The probability of student getting at least an A(80% +) final grade, given missing 10 or more classes is:\", round(A_given_B,2))"
   ]
  }
 ],
 "metadata": {
  "kernelspec": {
   "display_name": "Python 3 (ipykernel)",
   "language": "python",
   "name": "python3"
  },
  "language_info": {
   "codemirror_mode": {
    "name": "ipython",
    "version": 3
   },
   "file_extension": ".py",
   "mimetype": "text/x-python",
   "name": "python",
   "nbconvert_exporter": "python",
   "pygments_lexer": "ipython3",
   "version": "3.9.7"
  }
 },
 "nbformat": 4,
 "nbformat_minor": 5
}
